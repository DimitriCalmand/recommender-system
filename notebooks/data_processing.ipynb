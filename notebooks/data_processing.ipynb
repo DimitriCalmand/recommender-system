{
 "cells": [
  {
   "metadata": {
    "ExecuteTime": {
     "end_time": "2025-05-16T08:21:37.461239Z",
     "start_time": "2025-05-16T08:21:37.052661Z"
    }
   },
   "cell_type": "code",
   "source": [
    "import os\n",
    "import pandas as pd\n",
    "\n",
    "# Define the URL and the local path to save the dataset\n",
    "dataset_url = \"https://nas.chongminggao.top:4430/datasets/KuaiRec.zip\"\n",
    "dataset_zip_path = \"../data/raw/KuaiRec.zip\"\n",
    "dataset_extracted_path = \"../data/raw/\"\n",
    "\n",
    "# Create the data directory if it doesn't exist\n",
    "os.makedirs(\"../data/raw\", exist_ok=True)\n",
    "os.makedirs(\"../data/recommendations\", exist_ok=True)\n",
    "os.makedirs(\"../data/processed\", exist_ok=True)"
   ],
   "id": "8903b6adbecd9e46",
   "outputs": [],
   "execution_count": 1
  },
  {
   "metadata": {
    "ExecuteTime": {
     "end_time": "2025-05-16T08:21:38.019795Z",
     "start_time": "2025-05-16T08:21:37.465869Z"
    }
   },
   "cell_type": "code",
   "source": [
    "# Download the dataset\n",
    "! wget -O {dataset_zip_path} {dataset_url}\n",
    "! unzip -o {dataset_zip_path} -d {dataset_extracted_path}"
   ],
   "id": "65f1305296872553",
   "outputs": [
    {
     "name": "stdout",
     "output_type": "stream",
     "text": [
      "--2025-05-16 15:21:37--  https://nas.chongminggao.top:4430/datasets/KuaiRec.zip\r\n",
      "Resolving nas.chongminggao.top (nas.chongminggao.top)... 211.86.155.249\r\n",
      "Connecting to nas.chongminggao.top (nas.chongminggao.top)|211.86.155.249|:4430... failed: Connection refused.\r\n",
      "Archive:  ../data/raw/KuaiRec.zip\r\n",
      "  End-of-central-directory signature not found.  Either this file is not\r\n",
      "  a zipfile, or it constitutes one disk of a multi-part archive.  In the\r\n",
      "  latter case the central directory and zipfile comment will be found on\r\n",
      "  the last disk(s) of this archive.\r\n",
      "unzip:  cannot find zipfile directory in one of ../data/raw/KuaiRec.zip or\r\n",
      "        ../data/raw/KuaiRec.zip.zip, and cannot find ../data/raw/KuaiRec.zip.ZIP, period.\r\n"
     ]
    }
   ],
   "execution_count": 2
  },
  {
   "metadata": {
    "ExecuteTime": {
     "end_time": "2025-05-16T08:21:38.147956Z",
     "start_time": "2025-05-16T08:21:38.143415Z"
    }
   },
   "cell_type": "code",
   "source": [
    "# List all files in the extracted dataset\n",
    "print(\"Files in the extracted dataset:\")\n",
    "for file_name in os.listdir(dataset_extracted_path):\n",
    "    print(file_name)"
   ],
   "id": "78c88b0ff810ffd",
   "outputs": [
    {
     "name": "stdout",
     "output_type": "stream",
     "text": [
      "Files in the extracted dataset:\n",
      "kuairec_caption_category.csv\n",
      ".DS_Store\n",
      "item_daily_features.csv\n",
      "KuaiRec.zip\n",
      "item_categories.csv\n",
      "user_features.csv\n",
      "small_matrix.csv\n",
      "social_network.csv\n",
      "big_matrix.csv\n",
      "KuaiRec 2.0\n"
     ]
    }
   ],
   "execution_count": 3
  },
  {
   "metadata": {
    "ExecuteTime": {
     "end_time": "2025-05-16T08:21:58.416262Z",
     "start_time": "2025-05-16T08:21:38.168843Z"
    }
   },
   "cell_type": "code",
   "source": [
    "# Load and inspect each file in the dataset\n",
    "files_to_inspect = [\n",
    "    \"big_matrix.csv\",\n",
    "    \"small_matrix.csv\",\n",
    "    \"social_network.csv\",\n",
    "    \"user_features.csv\",\n",
    "    \"item_daily_features.csv\",\n",
    "    \"item_categories.csv\",\n",
    "]\n",
    "\n",
    "for file_name in files_to_inspect:\n",
    "    file_path = os.path.join(dataset_extracted_path, file_name)\n",
    "    print(f\"\\nInspecting {file_name}...\")\n",
    "    df = pd.read_csv(file_path)\n",
    "    #print(df.head())\n",
    "    print(df.info())\n",
    "\n"
   ],
   "id": "9f34adb86c782fb2",
   "outputs": [
    {
     "name": "stdout",
     "output_type": "stream",
     "text": [
      "\n",
      "Inspecting big_matrix.csv...\n",
      "<class 'pandas.core.frame.DataFrame'>\n",
      "RangeIndex: 12530806 entries, 0 to 12530805\n",
      "Data columns (total 8 columns):\n",
      " #   Column          Dtype  \n",
      "---  ------          -----  \n",
      " 0   user_id         int64  \n",
      " 1   video_id        int64  \n",
      " 2   play_duration   int64  \n",
      " 3   video_duration  int64  \n",
      " 4   time            object \n",
      " 5   date            int64  \n",
      " 6   timestamp       float64\n",
      " 7   watch_ratio     float64\n",
      "dtypes: float64(2), int64(5), object(1)\n",
      "memory usage: 764.8+ MB\n",
      "None\n",
      "\n",
      "Inspecting small_matrix.csv...\n",
      "<class 'pandas.core.frame.DataFrame'>\n",
      "RangeIndex: 4676570 entries, 0 to 4676569\n",
      "Data columns (total 8 columns):\n",
      " #   Column          Dtype  \n",
      "---  ------          -----  \n",
      " 0   user_id         int64  \n",
      " 1   video_id        int64  \n",
      " 2   play_duration   int64  \n",
      " 3   video_duration  int64  \n",
      " 4   time            object \n",
      " 5   date            float64\n",
      " 6   timestamp       float64\n",
      " 7   watch_ratio     float64\n",
      "dtypes: float64(3), int64(4), object(1)\n",
      "memory usage: 285.4+ MB\n",
      "None\n",
      "\n",
      "Inspecting social_network.csv...\n",
      "<class 'pandas.core.frame.DataFrame'>\n",
      "RangeIndex: 472 entries, 0 to 471\n",
      "Data columns (total 2 columns):\n",
      " #   Column       Non-Null Count  Dtype \n",
      "---  ------       --------------  ----- \n",
      " 0   user_id      472 non-null    int64 \n",
      " 1   friend_list  472 non-null    object\n",
      "dtypes: int64(1), object(1)\n",
      "memory usage: 7.5+ KB\n",
      "None\n",
      "\n",
      "Inspecting user_features.csv...\n",
      "<class 'pandas.core.frame.DataFrame'>\n",
      "RangeIndex: 7176 entries, 0 to 7175\n",
      "Data columns (total 31 columns):\n",
      " #   Column                 Non-Null Count  Dtype  \n",
      "---  ------                 --------------  -----  \n",
      " 0   user_id                7176 non-null   int64  \n",
      " 1   user_active_degree     7176 non-null   object \n",
      " 2   is_lowactive_period    7176 non-null   int64  \n",
      " 3   is_live_streamer       7176 non-null   int64  \n",
      " 4   is_video_author        7176 non-null   int64  \n",
      " 5   follow_user_num        7176 non-null   int64  \n",
      " 6   follow_user_num_range  7176 non-null   object \n",
      " 7   fans_user_num          7176 non-null   int64  \n",
      " 8   fans_user_num_range    7176 non-null   object \n",
      " 9   friend_user_num        7176 non-null   int64  \n",
      " 10  friend_user_num_range  7176 non-null   object \n",
      " 11  register_days          7176 non-null   int64  \n",
      " 12  register_days_range    7176 non-null   object \n",
      " 13  onehot_feat0           7176 non-null   int64  \n",
      " 14  onehot_feat1           7176 non-null   int64  \n",
      " 15  onehot_feat2           7176 non-null   int64  \n",
      " 16  onehot_feat3           7176 non-null   int64  \n",
      " 17  onehot_feat4           6975 non-null   float64\n",
      " 18  onehot_feat5           7176 non-null   int64  \n",
      " 19  onehot_feat6           7176 non-null   int64  \n",
      " 20  onehot_feat7           7176 non-null   int64  \n",
      " 21  onehot_feat8           7176 non-null   int64  \n",
      " 22  onehot_feat9           7176 non-null   int64  \n",
      " 23  onehot_feat10          7176 non-null   int64  \n",
      " 24  onehot_feat11          7176 non-null   int64  \n",
      " 25  onehot_feat12          7099 non-null   float64\n",
      " 26  onehot_feat13          7101 non-null   float64\n",
      " 27  onehot_feat14          7101 non-null   float64\n",
      " 28  onehot_feat15          7102 non-null   float64\n",
      " 29  onehot_feat16          7102 non-null   float64\n",
      " 30  onehot_feat17          7102 non-null   float64\n",
      "dtypes: float64(7), int64(19), object(5)\n",
      "memory usage: 1.7+ MB\n",
      "None\n",
      "\n",
      "Inspecting item_daily_features.csv...\n",
      "<class 'pandas.core.frame.DataFrame'>\n",
      "RangeIndex: 343341 entries, 0 to 343340\n",
      "Data columns (total 58 columns):\n",
      " #   Column                    Non-Null Count   Dtype  \n",
      "---  ------                    --------------   -----  \n",
      " 0   video_id                  343341 non-null  int64  \n",
      " 1   date                      343341 non-null  int64  \n",
      " 2   author_id                 343341 non-null  int64  \n",
      " 3   video_type                343341 non-null  object \n",
      " 4   upload_dt                 343341 non-null  object \n",
      " 5   upload_type               343341 non-null  object \n",
      " 6   visible_status            343341 non-null  object \n",
      " 7   video_duration            332743 non-null  float64\n",
      " 8   video_width               343341 non-null  int64  \n",
      " 9   video_height              343341 non-null  int64  \n",
      " 10  music_id                  343341 non-null  int64  \n",
      " 11  video_tag_id              343341 non-null  int64  \n",
      " 12  video_tag_name            310907 non-null  object \n",
      " 13  show_cnt                  343341 non-null  int64  \n",
      " 14  show_user_num             343341 non-null  int64  \n",
      " 15  play_cnt                  343341 non-null  int64  \n",
      " 16  play_user_num             343341 non-null  int64  \n",
      " 17  play_duration             343341 non-null  int64  \n",
      " 18  complete_play_cnt         343341 non-null  int64  \n",
      " 19  complete_play_user_num    343341 non-null  int64  \n",
      " 20  valid_play_cnt            343341 non-null  int64  \n",
      " 21  valid_play_user_num       343341 non-null  int64  \n",
      " 22  long_time_play_cnt        343341 non-null  int64  \n",
      " 23  long_time_play_user_num   343341 non-null  int64  \n",
      " 24  short_time_play_cnt       343341 non-null  int64  \n",
      " 25  short_time_play_user_num  343341 non-null  int64  \n",
      " 26  play_progress             343341 non-null  float64\n",
      " 27  comment_stay_duration     343341 non-null  int64  \n",
      " 28  like_cnt                  343341 non-null  int64  \n",
      " 29  like_user_num             343341 non-null  int64  \n",
      " 30  click_like_cnt            343341 non-null  int64  \n",
      " 31  double_click_cnt          343341 non-null  int64  \n",
      " 32  cancel_like_cnt           343341 non-null  int64  \n",
      " 33  cancel_like_user_num      343341 non-null  int64  \n",
      " 34  comment_cnt               343341 non-null  int64  \n",
      " 35  comment_user_num          343341 non-null  int64  \n",
      " 36  direct_comment_cnt        343341 non-null  int64  \n",
      " 37  reply_comment_cnt         343341 non-null  int64  \n",
      " 38  delete_comment_cnt        343341 non-null  int64  \n",
      " 39  delete_comment_user_num   343341 non-null  int64  \n",
      " 40  comment_like_cnt          343341 non-null  int64  \n",
      " 41  comment_like_user_num     343341 non-null  int64  \n",
      " 42  follow_cnt                343341 non-null  int64  \n",
      " 43  follow_user_num           343341 non-null  int64  \n",
      " 44  cancel_follow_cnt         343341 non-null  int64  \n",
      " 45  cancel_follow_user_num    343341 non-null  int64  \n",
      " 46  share_cnt                 343341 non-null  int64  \n",
      " 47  share_user_num            343341 non-null  int64  \n",
      " 48  download_cnt              343341 non-null  int64  \n",
      " 49  download_user_num         343341 non-null  int64  \n",
      " 50  report_cnt                343341 non-null  int64  \n",
      " 51  report_user_num           343341 non-null  int64  \n",
      " 52  reduce_similar_cnt        343341 non-null  int64  \n",
      " 53  reduce_similar_user_num   343341 non-null  int64  \n",
      " 54  collect_cnt               273658 non-null  float64\n",
      " 55  collect_user_num          273658 non-null  float64\n",
      " 56  cancel_collect_cnt        273658 non-null  float64\n",
      " 57  cancel_collect_user_num   273658 non-null  float64\n",
      "dtypes: float64(6), int64(47), object(5)\n",
      "memory usage: 151.9+ MB\n",
      "None\n",
      "\n",
      "Inspecting item_categories.csv...\n",
      "<class 'pandas.core.frame.DataFrame'>\n",
      "RangeIndex: 10728 entries, 0 to 10727\n",
      "Data columns (total 2 columns):\n",
      " #   Column    Non-Null Count  Dtype \n",
      "---  ------    --------------  ----- \n",
      " 0   video_id  10728 non-null  int64 \n",
      " 1   feat      10728 non-null  object\n",
      "dtypes: int64(1), object(1)\n",
      "memory usage: 167.8+ KB\n",
      "None\n"
     ]
    }
   ],
   "execution_count": 4
  },
  {
   "metadata": {
    "ExecuteTime": {
     "end_time": "2025-05-16T08:22:18.018954Z",
     "start_time": "2025-05-16T08:21:58.431482Z"
    }
   },
   "cell_type": "code",
   "source": [
    "# Define the paths to the dataset files\n",
    "user_features_path = os.path.join(dataset_extracted_path, \"user_features.csv\")\n",
    "item_daily_features_path = os.path.join(dataset_extracted_path, \"item_daily_features.csv\")\n",
    "small_matrix_path = os.path.join(dataset_extracted_path, \"small_matrix.csv\")\n",
    "big_matrix_path = os.path.join(dataset_extracted_path, \"big_matrix.csv\")\n",
    "social_network_path = os.path.join(dataset_extracted_path, \"social_network.csv\")\n",
    "item_categories_path = os.path.join(dataset_extracted_path, \"item_categories.csv\")\n",
    "\n",
    "# Load the datasets\n",
    "user_features = pd.read_csv(user_features_path)\n",
    "item_daily_features = pd.read_csv(item_daily_features_path)\n",
    "small_matrix = pd.read_csv(small_matrix_path)\n",
    "big_matrix = pd.read_csv(big_matrix_path)\n",
    "social_network = pd.read_csv(social_network_path)\n",
    "item_categories = pd.read_csv(item_categories_path)"
   ],
   "id": "3001f50f793c1683",
   "outputs": [],
   "execution_count": 5
  },
  {
   "metadata": {
    "ExecuteTime": {
     "end_time": "2025-05-16T08:22:23.228004Z",
     "start_time": "2025-05-16T08:22:18.066664Z"
    }
   },
   "cell_type": "code",
   "source": [
    "\n",
    "# Fill missing values in video_duration with the mean\n",
    "print(\"Processing item_daily_features...\")\n",
    "item_daily_features['video_duration'] = item_daily_features['video_duration'].fillna(item_daily_features['video_duration'].mean())\n",
    "item_daily_features['date'] = pd.to_datetime(item_daily_features['date'], format='%Y%m%d')\n",
    "item_daily_features.drop(columns=['video_tag_name', 'collect_cnt', 'collect_user_num', 'cancel_collect_cnt', 'cancel_collect_user_num'], inplace=True)\n",
    "item_daily_features[\"video_tag_id\"] = item_daily_features[\"video_tag_id\"].fillna(0)\n",
    "item_daily_features[\"video_tag_id\"] = item_daily_features[\"video_tag_id\"].apply(lambda x: x if x >= 0 else 0)\n",
    "if item_daily_features[\"video_tag_id\"].dtype == float:\n",
    "    item_daily_features = item_daily_features.astype({\"video_tag_id\": int})\n",
    "\n",
    "# Convert the 'time' column to datetime format and drop unnecessary columns\n",
    "print(\"Processing big_matrix...\")\n",
    "big_matrix['datetime'] = pd.to_datetime(big_matrix['time'])\n",
    "big_matrix.drop(columns=['time', 'date', 'timestamp'], inplace=True)\n",
    "\n",
    "# Convert the 'time' column to datetime format and drop unnecessary columns\n",
    "print(\"Processing small_matrix...\")\n",
    "small_matrix['datetime'] = pd.to_datetime(small_matrix['time'])\n",
    "small_matrix.drop(columns=['time', 'date', 'timestamp'], inplace=True)\n",
    "\n",
    "# Convert friend_list to a list of integers\n",
    "print(\"Processing social_network...\")\n",
    "social_network['friend_list'] = social_network['friend_list'].apply(lambda x: [int(i) for i in x.strip('[]').split(',')] if pd.notnull(x) else [])\n",
    "\n",
    "# Merge user_features with social_network\n",
    "print(\"Merging user_features with social_network...\")\n",
    "user_features = user_features.merge(social_network, on='user_id', how='left')\n",
    "for i in range(1, 18):\n",
    "    user_features[f\"onehot_feat{i}\"] = user_features[f\"onehot_feat{i}\"].fillna(0)\n",
    "    user_features[f\"onehot_feat{i}\"] = user_features[f\"onehot_feat{i}\"].apply(lambda x: x if x >= 0 else 0)\n",
    "    if user_features[f\"onehot_feat{i}\"].dtype == float:\n",
    "        user_features = user_features.astype({f\"onehot_feat{i}\": int})\n",
    "\n",
    "# Merge item_daily_features with item_categories\n",
    "print(\"Merging item_daily_features with item_categories...\")\n",
    "item_daily_features = item_daily_features.merge(item_categories, on='video_id', how='left')"
   ],
   "id": "4ea2b9171565484c",
   "outputs": [
    {
     "name": "stdout",
     "output_type": "stream",
     "text": [
      "Processing item_daily_features...\n",
      "Processing big_matrix...\n",
      "Processing small_matrix...\n",
      "Processing social_network...\n",
      "Merging user_features with social_network...\n",
      "Merging item_daily_features with item_categories...\n"
     ]
    }
   ],
   "execution_count": 6
  },
  {
   "metadata": {
    "ExecuteTime": {
     "end_time": "2025-05-16T08:23:34.550697Z",
     "start_time": "2025-05-16T08:22:23.232128Z"
    }
   },
   "cell_type": "code",
   "source": [
    "# Save the processed datasets\n",
    "print(\"Saving processed datasets...\")\n",
    "processed_path = \"../data/processed/\"\n",
    "\n",
    "big_matrix.to_csv(os.path.join(processed_path, \"big_matrix_processed.csv\"), index=False)\n",
    "small_matrix.to_csv(os.path.join(processed_path, \"small_matrix_processed.csv\"), index=False)\n",
    "user_features.to_csv(os.path.join(processed_path, \"user_features_processed.csv\"), index=False)\n",
    "item_daily_features.to_csv(os.path.join(processed_path, \"item_daily_features_processed.csv\"), index=False)\n",
    "\n",
    "print(\"Data preprocessing completed successfully!\")"
   ],
   "id": "6b6b1a36e58f55",
   "outputs": [
    {
     "name": "stdout",
     "output_type": "stream",
     "text": [
      "Saving processed datasets...\n",
      "Data preprocessing completed successfully!\n"
     ]
    }
   ],
   "execution_count": 7
  }
 ],
 "metadata": {
  "kernelspec": {
   "name": "python3",
   "language": "python",
   "display_name": "Python 3 (ipykernel)"
  }
 },
 "nbformat": 5,
 "nbformat_minor": 9
}
