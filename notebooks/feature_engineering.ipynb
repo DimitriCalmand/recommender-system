{
 "cells": [
  {
   "metadata": {
    "ExecuteTime": {
     "end_time": "2025-05-01T01:29:23.188960Z",
     "start_time": "2025-05-01T01:29:22.864228Z"
    }
   },
   "cell_type": "code",
   "source": [
    "import os\n",
    "import pandas as pd\n",
    "\n",
    "from src.utils.utils import ensure_datetime\n",
    "import numpy as np\n",
    "from datetime import datetime"
   ],
   "id": "7cbf26d045943123",
   "outputs": [],
   "execution_count": 1
  },
  {
   "metadata": {},
   "cell_type": "markdown",
   "source": "### Load the datasets",
   "id": "a1d0be699c732622"
  },
  {
   "metadata": {
    "ExecuteTime": {
     "end_time": "2025-05-01T01:29:35.857005Z",
     "start_time": "2025-05-01T01:29:23.192217Z"
    }
   },
   "cell_type": "code",
   "source": [
    "# Define the path to the processed data\n",
    "processed_path = \"../data/processed/\"\n",
    "\n",
    "# Load the processed datasets\n",
    "big_matrix = pd.read_csv(os.path.join(processed_path, \"big_matrix_processed.csv\"))\n",
    "small_matrix = pd.read_csv(os.path.join(processed_path, \"small_matrix_processed.csv\"))\n",
    "user_features = pd.read_csv(os.path.join(processed_path, \"user_features_processed.csv\"))\n",
    "item_daily_features = pd.read_csv(os.path.join(processed_path, \"item_daily_features_processed.csv\"))\n",
    "\n",
    "# Ensure datetime columns are in the correct format\n",
    "big_matrix = ensure_datetime(big_matrix, 'datetime')\n",
    "small_matrix = ensure_datetime(small_matrix, 'datetime')"
   ],
   "id": "3c83c64782717a81",
   "outputs": [],
   "execution_count": 2
  },
  {
   "metadata": {},
   "cell_type": "markdown",
   "source": "### User Features",
   "id": "5821bb09f7a1abd0"
  },
  {
   "metadata": {
    "ExecuteTime": {
     "end_time": "2025-05-01T01:29:35.969332Z",
     "start_time": "2025-05-01T01:29:35.965311Z"
    }
   },
   "cell_type": "code",
   "source": [
    "def create_user_based_features(interactions, user_features):\n",
    "    # Total Videos Watched\n",
    "    total_videos_watched = interactions.groupby('user_id')['video_id'].count().reset_index(name='total_videos_watched')\n",
    "\n",
    "    # Average Watch Ratio\n",
    "    avg_watch_ratio = interactions.groupby('user_id')['watch_ratio'].mean().reset_index(name='avg_watch_ratio')\n",
    "\n",
    "    # Preferred Video Category\n",
    "    video_category_counts = item_daily_features.groupby('video_id')['feat'].first().reset_index()\n",
    "    interactions_with_categories = interactions.merge(video_category_counts, on='video_id', how='left')\n",
    "    preferred_categories = interactions_with_categories.groupby('user_id')['feat'].apply(lambda x: x.value_counts().idxmax() if not x.value_counts().empty else np.nan).reset_index(name='preferred_category')\n",
    "\n",
    "    # User Activity Level\n",
    "    user_activity_level = interactions.groupby('user_id')['datetime'].nunique().reset_index(name='user_activity_level')\n",
    "\n",
    "    # Merge with user_features\n",
    "    user_features = user_features.merge(total_videos_watched, on='user_id', how='left')\n",
    "    user_features = user_features.merge(avg_watch_ratio, on='user_id', how='left')\n",
    "    user_features = user_features.merge(preferred_categories, on='user_id', how='left')\n",
    "    user_features = user_features.merge(user_activity_level, on='user_id', how='left')\n",
    "\n",
    "    return user_features"
   ],
   "id": "88d42a5ff3616c54",
   "outputs": [],
   "execution_count": 3
  },
  {
   "metadata": {},
   "cell_type": "markdown",
   "source": "### Video Features",
   "id": "891c0f64d9315d5"
  },
  {
   "metadata": {
    "ExecuteTime": {
     "end_time": "2025-05-01T01:29:35.975657Z",
     "start_time": "2025-05-01T01:29:35.972591Z"
    }
   },
   "cell_type": "code",
   "source": [
    "def create_video_based_features(item_daily_features):\n",
    "    # Total Likes\n",
    "    total_likes = item_daily_features.groupby('video_id')['like_cnt'].sum().reset_index(name='total_likes')\n",
    "\n",
    "    # Average Play Duration\n",
    "    avg_play_duration = item_daily_features.groupby('video_id')['play_duration'].mean().reset_index(name='avg_play_duration')\n",
    "\n",
    "    # Video Tags\n",
    "    video_tags = item_daily_features[['video_id', 'feat']].drop_duplicates()\n",
    "\n",
    "    # Video Upload Time\n",
    "    video_upload_time = item_daily_features[['video_id', 'upload_dt']].drop_duplicates()\n",
    "\n",
    "    # Merge with item_daily_features\n",
    "    item_daily_features.drop(columns=['upload_dt', 'feat'], inplace=True)\n",
    "\n",
    "    item_daily_features = item_daily_features.merge(total_likes, on='video_id', how='left')\n",
    "    item_daily_features = item_daily_features.merge(avg_play_duration, on='video_id', how='left')\n",
    "    item_daily_features = item_daily_features.merge(video_tags, on='video_id', how='left')\n",
    "    item_daily_features = item_daily_features.merge(video_upload_time, on='video_id', how='left')\n",
    "\n",
    "    return item_daily_features"
   ],
   "id": "21a9c1a90bf05dfd",
   "outputs": [],
   "execution_count": 4
  },
  {
   "metadata": {},
   "cell_type": "markdown",
   "source": "### Interaction Features",
   "id": "a02ba7c03f42c867"
  },
  {
   "metadata": {
    "ExecuteTime": {
     "end_time": "2025-05-01T01:29:35.989695Z",
     "start_time": "2025-05-01T01:29:35.985902Z"
    }
   },
   "cell_type": "code",
   "source": [
    "def create_interaction_based_features(interactions):\n",
    "    # User-Video Watch Count\n",
    "    user_video_watch_count = interactions.groupby(['user_id', 'video_id']).size().reset_index(name='user_video_watch_count')\n",
    "\n",
    "    # User-Video Average Watch Ratio\n",
    "    user_video_avg_watch_ratio = interactions.groupby(['user_id', 'video_id'])['watch_ratio'].mean().reset_index(name='user_video_avg_watch_ratio')\n",
    "\n",
    "    # Time of Day\n",
    "    interactions['time_of_day'] = interactions['datetime'].dt.hour\n",
    "\n",
    "    # Day of Week\n",
    "    interactions['day_of_week'] = interactions['datetime'].dt.dayofweek\n",
    "\n",
    "    # Merge with interactions\n",
    "    interactions = interactions.merge(user_video_watch_count, on=['user_id', 'video_id'], how='left')\n",
    "    interactions = interactions.merge(user_video_avg_watch_ratio, on=['user_id', 'video_id'], how='left')\n",
    "\n",
    "    return interactions"
   ],
   "id": "1fb53138e8fda938",
   "outputs": [],
   "execution_count": 5
  },
  {
   "metadata": {},
   "cell_type": "markdown",
   "source": "### Social Features",
   "id": "3f88d10bf8d82c7f"
  },
  {
   "metadata": {
    "ExecuteTime": {
     "end_time": "2025-05-01T01:29:36.003925Z",
     "start_time": "2025-05-01T01:29:36.000337Z"
    }
   },
   "cell_type": "code",
   "source": [
    "def create_social_based_features(user_features, interactions, item_daily_features):\n",
    "    # Number of Friends\n",
    "    num_friends = user_features[['user_id', 'friend_list']].copy()\n",
    "    num_friends['num_friends'] = num_friends['friend_list'].apply(lambda x: len(x) if isinstance(x, list) else 0)\n",
    "\n",
    "    # Friends' Preferences\n",
    "    video_category_counts = item_daily_features.groupby('video_id')['feat'].first().reset_index()\n",
    "    interactions_with_categories = interactions.merge(video_category_counts, on='video_id', how='left')\n",
    "    friends_preferences = interactions_with_categories.groupby('user_id')['feat'].apply(lambda x: x.value_counts().idxmax() if not x.value_counts().empty else np.nan).reset_index(name='friends_preferred_category')\n",
    "\n",
    "    # Social Influence Score\n",
    "    social_influence_score = interactions.groupby('user_id')['watch_ratio'].mean().reset_index(name='social_influence_score')\n",
    "\n",
    "    # Merge with user_features\n",
    "    user_features = user_features.merge(num_friends[['user_id', 'num_friends']], on='user_id', how='left')\n",
    "    user_features = user_features.merge(friends_preferences, on='user_id', how='left')\n",
    "    user_features = user_features.merge(social_influence_score, on='user_id', how='left')\n",
    "\n",
    "    return user_features"
   ],
   "id": "3e576d39d051e3d2",
   "outputs": [],
   "execution_count": 6
  },
  {
   "metadata": {},
   "cell_type": "markdown",
   "source": "### Computing features",
   "id": "3b453311338f02ca"
  },
  {
   "metadata": {
    "ExecuteTime": {
     "end_time": "2025-05-01T01:29:58.481406Z",
     "start_time": "2025-05-01T01:29:36.016487Z"
    }
   },
   "cell_type": "code",
   "source": [
    "if 'feat' not in item_daily_features.columns:\n",
    "    print(\"Not found 'feat' in item_daily_features\")\n",
    "# Create features for big_matrix and small_matrix\n",
    "print(\"Creating interaction-based features for big_matrix...\")\n",
    "big_matrix = create_interaction_based_features(big_matrix)\n",
    "\n",
    "if 'feat' not in item_daily_features.columns:\n",
    "    print(\"Not found 'feat' in item_daily_features\")\n",
    "print(\"Creating interaction-based features for small_matrix...\")\n",
    "small_matrix = create_interaction_based_features(small_matrix)\n",
    "\n",
    "if 'feat' not in item_daily_features.columns:\n",
    "    print(\"Not found 'feat' in item_daily_features\")\n",
    "# Create user-based features\n",
    "print(\"Creating user-based features...\")\n",
    "user_features = create_user_based_features(pd.concat([big_matrix, small_matrix]), user_features)\n",
    "\n",
    "if 'feat' not in item_daily_features.columns:\n",
    "    print(\"Not found 'feat' in item_daily_features\")\n",
    "# Create video-based features\n",
    "print(\"Creating video-based features...\")\n",
    "item_daily_features = create_video_based_features(item_daily_features)\n",
    "\n",
    "if 'feat' not in item_daily_features.columns:\n",
    "    print(\"Not found 'feat' in item_daily_features\")\n",
    "# Create social-based features\n",
    "print(\"Creating social-based features...\")\n",
    "#user_features = create_social_based_features(user_features, pd.concat([big_matrix, small_matrix]), item_daily_features)\n",
    "user_features = create_social_based_features(user_features, small_matrix, item_daily_features)"
   ],
   "id": "301df995f64bd4c2",
   "outputs": [
    {
     "name": "stdout",
     "output_type": "stream",
     "text": [
      "Creating interaction-based features for big_matrix...\n",
      "Creating interaction-based features for small_matrix...\n",
      "Creating user-based features...\n",
      "Creating video-based features...\n",
      "Creating social-based features...\n"
     ]
    }
   ],
   "execution_count": 7
  },
  {
   "metadata": {},
   "cell_type": "markdown",
   "source": "### Save the engineered features",
   "id": "5397ffb3b3c7708d"
  },
  {
   "metadata": {
    "ExecuteTime": {
     "end_time": "2025-05-01T01:31:01.279384Z",
     "start_time": "2025-05-01T01:29:58.495201Z"
    }
   },
   "cell_type": "code",
   "source": [
    "big_matrix.to_csv(os.path.join(processed_path, \"big_matrix_features.csv\"), index=False)\n",
    "small_matrix.to_csv(os.path.join(processed_path, \"small_matrix_features.csv\"), index=False)\n",
    "user_features.to_csv(os.path.join(processed_path, \"user_features_engineered.csv\"), index=False)\n",
    "item_daily_features.to_csv(os.path.join(processed_path, \"item_daily_features_engineered.csv\"), index=False)\n",
    "\n",
    "print(\"Feature engineering completed successfully!\")\n"
   ],
   "id": "fe9175e2dc9d6df7",
   "outputs": [
    {
     "name": "stdout",
     "output_type": "stream",
     "text": [
      "Feature engineering completed successfully!\n"
     ]
    }
   ],
   "execution_count": 8
  }
 ],
 "metadata": {
  "kernelspec": {
   "name": "python3",
   "language": "python",
   "display_name": "Python 3 (ipykernel)"
  }
 },
 "nbformat": 5,
 "nbformat_minor": 9
}
