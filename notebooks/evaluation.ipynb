{
 "cells": [
  {
   "metadata": {
    "ExecuteTime": {
     "end_time": "2025-05-16T10:30:51.314244Z",
     "start_time": "2025-05-16T10:30:50.835638Z"
    }
   },
   "cell_type": "code",
   "source": [
    "import os\n",
    "import pandas as pd\n",
    "import numpy as np\n",
    "from collections import defaultdict\n",
    "import matplotlib.pyplot as plt\n",
    "\n",
    "from src.utils.utils import safe_parse_feat"
   ],
   "id": "7d2560374456c96f",
   "outputs": [],
   "execution_count": 1
  },
  {
   "metadata": {},
   "cell_type": "markdown",
   "source": "### Load the Data",
   "id": "beee6d1fd137e8d4"
  },
  {
   "metadata": {
    "ExecuteTime": {
     "end_time": "2025-05-16T10:30:59.514877Z",
     "start_time": "2025-05-16T10:30:51.317377Z"
    }
   },
   "cell_type": "code",
   "source": [
    "# Define the path to the processed data\n",
    "processed_path = \"../data/processed/\"\n",
    "recommendations_path = \"../data/recommendations/\"\n",
    "\n",
    "# Load the recommendations\n",
    "als_recommendations = pd.read_csv(os.path.join(recommendations_path, \"als_recommendations.csv\"))\n",
    "content_based_recommendations = pd.read_csv(os.path.join(recommendations_path, \"content_based_recommendations.csv\"))\n",
    "hybrid_recommendations = pd.read_csv(os.path.join(recommendations_path, \"hybrid_recommendations.csv\"))\n",
    "nn_recommendations = pd.read_csv(os.path.join(recommendations_path, \"nn_recommendations.csv\"))\n",
    "combined_recommendations = pd.read_csv(os.path.join(recommendations_path, \"combined_recommendations.csv\"))\n",
    "\n",
    "# Load ground truth data\n",
    "interactions_test = pd.read_csv(os.path.join(processed_path, \"interactions_test.csv\"))\n",
    "user_features = pd.read_csv(os.path.join(processed_path, \"user_features.csv\"))\n",
    "video_metadata = pd.read_csv(os.path.join(processed_path, \"video_metadata.csv\"))\n",
    "\n",
    "# Convert recommendations DataFrames to dictionaries\n",
    "def load_recommendations(df):\n",
    "    recommendations = {}\n",
    "    for _, row in df.iterrows():\n",
    "        user_id = row['user_id']\n",
    "        recs = row.drop('user_id').dropna().astype(int).tolist()\n",
    "        recommendations[user_id] = recs\n",
    "    return recommendations\n",
    "\n",
    "als_recommendations = load_recommendations(als_recommendations)\n",
    "content_based_recommendations = load_recommendations(content_based_recommendations)\n",
    "hybrid_recommendations = load_recommendations(hybrid_recommendations)\n",
    "nn_recommendations = load_recommendations(nn_recommendations)\n",
    "combined_recommendations = load_recommendations(combined_recommendations)\n",
    "\n",
    "video_metadata[\"feat\"] = video_metadata[\"feat\"].apply(safe_parse_feat)\n",
    "video_metadata = video_metadata[video_metadata[\"feat\"].notnull()]\n",
    "\n",
    "user_features[\"preferred_category\"] = user_features[\"preferred_category\"].apply(safe_parse_feat)\n",
    "user_features = user_features[user_features[\"preferred_category\"].notnull()]\n",
    "\n",
    "user_features[\"friends_preferred_category\"] = user_features[\"friends_preferred_category\"].apply(safe_parse_feat)\n",
    "user_features = user_features[user_features[\"friends_preferred_category\"].notnull()]"
   ],
   "id": "bd5485cd7add87b6",
   "outputs": [],
   "execution_count": 2
  },
  {
   "metadata": {},
   "cell_type": "markdown",
   "source": [
    "### Build ground truth\n",
    "(videos actually watched by each user)"
   ],
   "id": "6057e9462c4b7093"
  },
  {
   "metadata": {
    "ExecuteTime": {
     "end_time": "2025-05-16T10:31:50.795490Z",
     "start_time": "2025-05-16T10:30:59.614040Z"
    }
   },
   "cell_type": "code",
   "source": [
    "ground_truth = defaultdict(set)\n",
    "for _, row in interactions_test.iterrows():\n",
    "    ground_truth[row['user_id']].add(row['video_id'])\n",
    "\n",
    "# Create a dictionary to map video IDs to their categories\n",
    "video_categories = video_metadata.set_index('video_id')['feat'].to_dict()\n",
    "\n",
    "# Create a dictionary to map user IDs to their preferred categories and friends' preferred categories\n",
    "user_preferred_category = user_features.set_index('user_id')['preferred_category'].to_dict()\n",
    "user_friends_preferred_category = user_features.set_index('user_id')['friends_preferred_category'].to_dict()"
   ],
   "id": "4836817f088f3fdf",
   "outputs": [],
   "execution_count": 3
  },
  {
   "metadata": {},
   "cell_type": "markdown",
   "source": "### Evaluation function",
   "id": "7cbdeae436753133"
  },
  {
   "metadata": {
    "ExecuteTime": {
     "end_time": "2025-05-16T10:31:51.289877Z",
     "start_time": "2025-05-16T10:31:51.284527Z"
    }
   },
   "cell_type": "code",
   "source": [
    "def evaluate_recommendations(recommendations, ground_truth, video_categories, user_preferred_category, user_friends_preferred_category, k=10):\n",
    "    precision_list = []\n",
    "    category_precision_list = []\n",
    "    hit_count = 0\n",
    "    category_hit_count = 0\n",
    "    user_count = 0\n",
    "\n",
    "    for user_id, recs in recommendations.items():\n",
    "        if user_id not in ground_truth:\n",
    "            continue  # No test data for this user\n",
    "\n",
    "        true_items = ground_truth[user_id]\n",
    "        k_user = k\n",
    "        recommended_items = recs[:k_user]\n",
    "        hits = len(set(recommended_items) & true_items)\n",
    "\n",
    "        # Get user's preferred categories and friends' preferred categories\n",
    "        preferred_category = set(user_preferred_category.get(user_id, []))\n",
    "        friends_preferred_category = set(user_friends_preferred_category.get(user_id, []))\n",
    "        all_preferred_category = preferred_category.union(friends_preferred_category)\n",
    "\n",
    "        # Check if recommended videos are in the user's or friends' preferred categories\n",
    "        category_hits = 0\n",
    "        for vid in recommended_items:\n",
    "            video_category = set(video_categories.get(vid, []))\n",
    "            if video_category.intersection(all_preferred_category):\n",
    "                category_hits += 1\n",
    "\n",
    "        precision = hits / k_user\n",
    "        category_precision = category_hits / k_user\n",
    "        hit = 1 if hits > 0 else 0\n",
    "        category_hit = 1 if category_hits > 0 else 0\n",
    "\n",
    "        precision_list.append(precision)\n",
    "        category_precision_list.append(category_precision)\n",
    "        hit_count += hit\n",
    "        category_hit_count += category_hit\n",
    "        user_count += 1\n",
    "\n",
    "    precision_at_k = np.mean(precision_list)\n",
    "    category_precision_at_k = np.mean(category_precision_list)\n",
    "    hit_rate = hit_count / user_count if user_count > 0 else 0\n",
    "    category_hit_rate = category_hit_count / user_count if user_count > 0 else 0\n",
    "\n",
    "    return {\n",
    "        'Precision@K': precision_at_k,\n",
    "        'CategoryPrecision@K': category_precision_at_k,\n",
    "        'HitRate@K': hit_rate,\n",
    "        'CategoryHitRate@K': category_hit_rate,\n",
    "        'Evaluated Users': user_count\n",
    "    }"
   ],
   "id": "c6b6ab0f0b94f5f4",
   "outputs": [],
   "execution_count": 4
  },
  {
   "metadata": {},
   "cell_type": "markdown",
   "source": "### Evaluate recommendations",
   "id": "de2df516b396313c"
  },
  {
   "metadata": {
    "ExecuteTime": {
     "end_time": "2025-05-16T10:31:51.403702Z",
     "start_time": "2025-05-16T10:31:51.297007Z"
    }
   },
   "cell_type": "code",
   "source": [
    "def print_res(method, results):\n",
    "    print(\"\\n--- \", method, \" ---\")\n",
    "    for key, value in results.items():\n",
    "        if isinstance(value, float):\n",
    "            value = round(value, 3)\n",
    "        else:\n",
    "            value = int(value)\n",
    "        print(f\"{key}: {value}\")\n",
    "\n",
    "\n",
    "# Evaluate ALS recommendations\n",
    "als_results = evaluate_recommendations(als_recommendations, ground_truth, video_categories, user_preferred_category, user_friends_preferred_category, k=30)\n",
    "print_res(\"ALS Recommendations\", als_results)\n",
    "\n",
    "# Evaluate content-based recommendations\n",
    "content_based_results = evaluate_recommendations(content_based_recommendations, ground_truth, video_categories, user_preferred_category, user_friends_preferred_category, k=30)\n",
    "print_res(\"Content Based Recommendations\", content_based_results)\n",
    "\n",
    "# Evaluate hybrid recommendations\n",
    "hybrid_results = evaluate_recommendations(hybrid_recommendations, ground_truth, video_categories, user_preferred_category, user_friends_preferred_category, k=30)\n",
    "print_res(\"Hybrid Recommendations\", hybrid_results)\n",
    "\n",
    "# Evaluate NN recommendations\n",
    "nn_results = evaluate_recommendations(nn_recommendations, ground_truth, video_categories, user_preferred_category, user_friends_preferred_category, k=30)\n",
    "print_res(\"NN Recommendations\", nn_results)\n",
    "\n",
    "# Evaluate combined recommendations\n",
    "combined_results = evaluate_recommendations(combined_recommendations, ground_truth, video_categories, user_preferred_category, user_friends_preferred_category, k=30)\n",
    "print_res(\"Combined Recommendations\", combined_results)"
   ],
   "id": "ed3df344bcf6c46d",
   "outputs": [
    {
     "name": "stdout",
     "output_type": "stream",
     "text": [
      "\n",
      "---  ALS Recommendations  ---\n",
      "Precision@K: 0.029\n",
      "CategoryPrecision@K: 0.014\n",
      "HitRate@K: 0.87\n",
      "CategoryHitRate@K: 0.422\n",
      "Evaluated Users: 7176\n",
      "\n",
      "---  Content Based Recommendations  ---\n",
      "Precision@K: 0.02\n",
      "CategoryPrecision@K: 0.302\n",
      "HitRate@K: 0.434\n",
      "CategoryHitRate@K: 0.907\n",
      "Evaluated Users: 7176\n",
      "\n",
      "---  Hybrid Recommendations  ---\n",
      "Precision@K: 0.039\n",
      "CategoryPrecision@K: 0.333\n",
      "HitRate@K: 0.689\n",
      "CategoryHitRate@K: 1.0\n",
      "Evaluated Users: 7176\n",
      "\n",
      "---  NN Recommendations  ---\n",
      "Precision@K: 0.004\n",
      "CategoryPrecision@K: 0.064\n",
      "HitRate@K: 0.124\n",
      "CategoryHitRate@K: 0.244\n",
      "Evaluated Users: 500\n",
      "\n",
      "---  Combined Recommendations  ---\n",
      "Precision@K: 0.049\n",
      "CategoryPrecision@K: 0.318\n",
      "HitRate@K: 0.911\n",
      "CategoryHitRate@K: 0.943\n",
      "Evaluated Users: 7176\n"
     ]
    }
   ],
   "execution_count": 5
  },
  {
   "metadata": {
    "ExecuteTime": {
     "end_time": "2025-05-16T10:31:51.884357Z",
     "start_time": "2025-05-16T10:31:51.656488Z"
    }
   },
   "cell_type": "code",
   "source": [
    "# Plot comparison of results\n",
    "models = ['Content Based', 'ALS', 'Hybrid', 'NN', 'Combined']\n",
    "\n",
    "precision_values = [content_based_results['Precision@K'], als_results['Precision@K'], hybrid_results['Precision@K'], nn_results['Precision@K'], combined_results['Precision@K']]\n",
    "\n",
    "category_precision_values = [content_based_results['CategoryPrecision@K'], als_results['CategoryPrecision@K'], hybrid_results['CategoryPrecision@K'], nn_results['CategoryPrecision@K'], combined_results['CategoryPrecision@K']]\n",
    "\n",
    "hit_rate_values = [content_based_results['HitRate@K'], als_results['HitRate@K'], hybrid_results['HitRate@K'], nn_results['HitRate@K'], combined_results['HitRate@K']]\n",
    "\n",
    "category_hit_rate_values = [content_based_results['CategoryHitRate@K'], als_results['CategoryHitRate@K'], hybrid_results['CategoryHitRate@K'], nn_results['CategoryHitRate@K'], combined_results['CategoryHitRate@K']]\n",
    "\n",
    "x = np.arange(len(models))\n",
    "width = 0.2\n",
    "\n",
    "fig1, ax1 = plt.subplots()\n",
    "rects1 = ax1.bar(x - width, precision_values, width, label='Precision@K')\n",
    "rects2 = ax1.bar(x + width, category_precision_values, width, label='CategoryPrecision@K')\n",
    "\n",
    "ax1.set_xlabel('Models')\n",
    "ax1.set_ylabel('Scores')\n",
    "ax1.set_title('Comparison of Recommendation Models')\n",
    "ax1.set_xticks(x)\n",
    "ax1.set_xticklabels(models)\n",
    "ax1.legend()\n",
    "\n",
    "fig1.tight_layout()\n",
    "plt.show()\n",
    "\n",
    "fig2, ax2 = plt.subplots()\n",
    "rects3 = ax2.bar(x, hit_rate_values, width, label='HitRate@K')\n",
    "rects4 = ax2.bar(x + width, category_hit_rate_values, width, label='CategoryHitRate@K')\n",
    "\n",
    "ax2.set_xlabel('Models')\n",
    "ax2.set_ylabel('Score')\n",
    "ax2.set_title('Comparison of Recommendation Models on Hit Rate')\n",
    "ax2.set_xticks(x)\n",
    "ax2.set_xticklabels(models)\n",
    "ax2.legend()\n",
    "\n",
    "fig2.tight_layout()\n",
    "plt.show()\n"
   ],
   "id": "daddf88766d76eb0",
   "outputs": [
    {
     "data": {
      "text/plain": [
       "<Figure size 640x480 with 1 Axes>"
      ],
      "image/png": "[encoded data removed]"
     },
     "metadata": {},
     "output_type": "display_data"
    },
    {
     "data": {
      "text/plain": [
       "<Figure size 640x480 with 1 Axes>"
      ],
      "image/png": "[encoded data removed]"
     },
     "metadata": {},
     "output_type": "display_data"
    }
   ],
   "execution_count": 6
  }
 ],
 "metadata": {
  "kernelspec": {
   "name": "python3",
   "language": "python",
   "display_name": "Python 3 (ipykernel)"
  }
 },
 "nbformat": 5,
 "nbformat_minor": 9
}
