{
 "cells": [
  {
   "metadata": {
    "ExecuteTime": {
     "end_time": "2025-05-13T01:24:12.658822Z",
     "start_time": "2025-05-13T01:24:11.841633Z"
    }
   },
   "cell_type": "code",
   "source": [
    "import os\n",
    "import pandas as pd\n",
    "import numpy as np\n",
    "from collections import defaultdict\n",
    "import matplotlib.pyplot as plt\n",
    "from src.utils.utils import safe_parse_feat"
   ],
   "id": "7d2560374456c96f",
   "outputs": [],
   "execution_count": 1
  },
  {
   "metadata": {},
   "cell_type": "markdown",
   "source": "### Load the Data",
   "id": "beee6d1fd137e8d4"
  },
  {
   "metadata": {
    "ExecuteTime": {
     "end_time": "2025-05-13T01:24:23.177426Z",
     "start_time": "2025-05-13T01:24:12.665439Z"
    }
   },
   "cell_type": "code",
   "source": [
    "# Define the path to the processed data\n",
    "processed_path = \"../data/processed/\"\n",
    "\n",
    "# Load the recommendations and ground truth data\n",
    "content_based_recommendations = pd.read_csv(os.path.join(processed_path, \"content_based_recommendations.csv\"))\n",
    "als_recommendations = pd.read_csv(os.path.join(processed_path, \"als_recommendations.csv\"))\n",
    "interactions_test = pd.read_csv(os.path.join(processed_path, \"interactions_test.csv\"))\n",
    "user_features = pd.read_csv(os.path.join(processed_path, \"user_features_engineered.csv\"))\n",
    "video_metadata = pd.read_csv(os.path.join(processed_path, \"video_metadata.csv\"))\n",
    "\n",
    "# Convert recommendations DataFrames to dictionaries\n",
    "def load_recommendations(df):\n",
    "    recommendations = {}\n",
    "    for _, row in df.iterrows():\n",
    "        user_id = row['user_id']\n",
    "        recs = row.drop('user_id').dropna().astype(int).tolist()\n",
    "        recommendations[user_id] = recs\n",
    "    return recommendations\n",
    "\n",
    "content_based_recommendations = load_recommendations(content_based_recommendations)\n",
    "als_recommendations = load_recommendations(als_recommendations)\n",
    "\n",
    "video_metadata[\"feat\"] = video_metadata[\"feat\"].apply(safe_parse_feat)\n",
    "video_metadata = video_metadata[video_metadata[\"feat\"].notnull()]\n",
    "\n",
    "user_features[\"preferred_category\"] = user_features[\"preferred_category\"].apply(safe_parse_feat)\n",
    "user_features = user_features[user_features[\"preferred_category\"].notnull()]\n",
    "\n",
    "user_features[\"friends_preferred_category\"] = user_features[\"friends_preferred_category\"].apply(safe_parse_feat)\n",
    "user_features = user_features[user_features[\"friends_preferred_category\"].notnull()]"
   ],
   "id": "bd5485cd7add87b6",
   "outputs": [],
   "execution_count": 2
  },
  {
   "metadata": {},
   "cell_type": "markdown",
   "source": [
    "### Build ground truth\n",
    "(videos actually watched by each user)"
   ],
   "id": "6057e9462c4b7093"
  },
  {
   "metadata": {
    "ExecuteTime": {
     "end_time": "2025-05-13T01:26:07.761480Z",
     "start_time": "2025-05-13T01:24:23.309751Z"
    }
   },
   "cell_type": "code",
   "source": [
    "ground_truth = defaultdict(set)\n",
    "for _, row in interactions_test.iterrows():\n",
    "    ground_truth[row['user_id']].add(row['video_id'])\n",
    "\n",
    "# Create a dictionary to map video IDs to their categories\n",
    "video_categories = video_metadata.set_index('video_id')['feat'].to_dict()\n",
    "\n",
    "# Create a dictionary to map user IDs to their preferred categories and friends' preferred categories\n",
    "user_preferred_category = user_features.set_index('user_id')['preferred_category'].to_dict()\n",
    "user_friends_preferred_category = user_features.set_index('user_id')['friends_preferred_category'].to_dict()"
   ],
   "id": "4836817f088f3fdf",
   "outputs": [],
   "execution_count": 3
  },
  {
   "metadata": {},
   "cell_type": "markdown",
   "source": "### Evaluation function",
   "id": "7cbdeae436753133"
  },
  {
   "metadata": {
    "ExecuteTime": {
     "end_time": "2025-05-13T01:26:08.544376Z",
     "start_time": "2025-05-13T01:26:08.537294Z"
    }
   },
   "cell_type": "code",
   "source": [
    "def evaluate_recommendations(recommendations, ground_truth, video_categories, user_preferred_category, user_friends_preferred_category, k=10):\n",
    "    precision_list = []\n",
    "    category_precision_list = []\n",
    "    hit_count = 0\n",
    "    category_hit_count = 0\n",
    "    user_count = 0\n",
    "\n",
    "    for user_id, recs in recommendations.items():\n",
    "        if user_id not in ground_truth:\n",
    "            continue  # No test data for this user\n",
    "\n",
    "        true_items = ground_truth[user_id]\n",
    "        k_user = k\n",
    "        recommended_items = recs[:k_user]\n",
    "        hits = len(set(recommended_items) & true_items)\n",
    "\n",
    "        # Get user's preferred categories and friends' preferred categories\n",
    "        preferred_category = set(user_preferred_category.get(user_id, []))\n",
    "        friends_preferred_category = set(user_friends_preferred_category.get(user_id, []))\n",
    "        all_preferred_category = preferred_category.union(friends_preferred_category)\n",
    "\n",
    "        # Check if recommended videos are in the user's or friends' preferred categories\n",
    "        category_hits = 0\n",
    "        for vid in recommended_items:\n",
    "            video_category = set(video_categories.get(vid, []))\n",
    "            if video_category.intersection(all_preferred_category):\n",
    "                category_hits += 1\n",
    "\n",
    "        precision = hits / k_user\n",
    "        category_precision = category_hits / k_user\n",
    "        hit = 1 if hits > 0 else 0\n",
    "        category_hit = 1 if category_hits > 0 else 0\n",
    "\n",
    "        precision_list.append(precision)\n",
    "        category_precision_list.append(category_precision)\n",
    "        hit_count += hit\n",
    "        category_hit_count += category_hit\n",
    "        user_count += 1\n",
    "\n",
    "    precision_at_k = np.mean(precision_list)\n",
    "    category_precision_at_k = np.mean(category_precision_list)\n",
    "    hit_rate = hit_count / user_count if user_count > 0 else 0\n",
    "    category_hit_rate = category_hit_count / user_count if user_count > 0 else 0\n",
    "\n",
    "    return {\n",
    "        'Precision@K': precision_at_k,\n",
    "        'CatagoryPrecision@K': category_precision_at_k,\n",
    "        'HitRate@K': hit_rate,\n",
    "        'CategoryHitRate@K': category_hit_rate,\n",
    "        'Evaluated Users': user_count\n",
    "    }"
   ],
   "id": "c6b6ab0f0b94f5f4",
   "outputs": [],
   "execution_count": 4
  },
  {
   "metadata": {},
   "cell_type": "markdown",
   "source": "### Evaluate recommendations",
   "id": "de2df516b396313c"
  },
  {
   "metadata": {
    "ExecuteTime": {
     "end_time": "2025-05-13T01:26:08.716822Z",
     "start_time": "2025-05-13T01:26:08.629737Z"
    }
   },
   "cell_type": "code",
   "source": [
    "# Evaluate content-based recommendations\n",
    "content_based_results = evaluate_recommendations(content_based_recommendations, ground_truth, video_categories, user_preferred_category, user_friends_preferred_category, k=30)\n",
    "print('Content-Based Evaluation Results:', content_based_results)\n",
    "\n",
    "# Evaluate ALS recommendations\n",
    "als_results = evaluate_recommendations(als_recommendations, ground_truth, video_categories, user_preferred_category, user_friends_preferred_category, k=30)\n",
    "print('ALS Evaluation Results:', als_results)"
   ],
   "id": "ed3df344bcf6c46d",
   "outputs": [
    {
     "name": "stdout",
     "output_type": "stream",
     "text": [
      "Content-Based Evaluation Results: {'Precision@K': np.float64(0.03939056112969156), 'CatagoryPrecision@K': np.float64(0.33333333333333326), 'HitRate@K': 0.6885451505016722, 'CategoryHitRate@K': 1.0, 'Evaluated Users': 7176}\n",
      "ALS Evaluation Results: {'Precision@K': np.float64(0.02047565960609439), 'CatagoryPrecision@K': np.float64(0.33333333333333326), 'HitRate@K': 0.4488573021181717, 'CategoryHitRate@K': 1.0, 'Evaluated Users': 7176}\n"
     ]
    }
   ],
   "execution_count": 5
  },
  {
   "metadata": {},
   "cell_type": "markdown",
   "source": "### Combine recommendations",
   "id": "2f2a2cbb87be180e"
  },
  {
   "metadata": {
    "ExecuteTime": {
     "end_time": "2025-05-13T01:26:09.617941Z",
     "start_time": "2025-05-13T01:26:09.437619Z"
    }
   },
   "cell_type": "code",
   "source": [
    "# Combine recommendations using an ensemble method\n",
    "def combine_recommendations(rec1, rec2, alpha=0.7):\n",
    "    combined_recs = {}\n",
    "    for user_id in rec1.keys():\n",
    "        if user_id in rec2:\n",
    "            # Get the scores for the recommended videos from both models\n",
    "            rec1_scores = {vid: score for score, vid in enumerate(rec1[user_id])}\n",
    "            rec2_scores = {vid: score for score, vid in enumerate(rec2[user_id])}\n",
    "\n",
    "            # Combine the scores using the specified alpha\n",
    "            combined_scores = {}\n",
    "            all_vids = set(rec1[user_id]).union(set(rec2[user_id]))\n",
    "            for vid in all_vids:\n",
    "                score1 = rec1_scores.get(vid, 0)\n",
    "                score2 = rec2_scores.get(vid, 0)\n",
    "                combined_scores[vid] = alpha * score1 + (1 - alpha) * score2\n",
    "\n",
    "            # Sort the videos based on the combined scores\n",
    "            sorted_vids = sorted(combined_scores.keys(), key=lambda x: combined_scores[x], reverse=True)\n",
    "            combined_recs[user_id] = sorted_vids\n",
    "        else:\n",
    "            combined_recs[user_id] = rec1[user_id]\n",
    "    return combined_recs\n",
    "\n",
    "# Combine content-based and ALS recommendations\n",
    "combined_recommendations = combine_recommendations(content_based_recommendations, als_recommendations, alpha=0.7)\n",
    "\n",
    "# Evaluate combined recommendations\n",
    "combined_results = evaluate_recommendations(combined_recommendations, ground_truth, video_categories, user_preferred_category, user_friends_preferred_category, k=30)\n",
    "print('Combined Evaluation Results:', combined_results)"
   ],
   "id": "d52a7c5a725a8101",
   "outputs": [
    {
     "name": "stdout",
     "output_type": "stream",
     "text": [
      "Combined Evaluation Results: {'Precision@K': np.float64(0.05986157562244518), 'CatagoryPrecision@K': np.float64(0.6664901523597176), 'HitRate@K': 0.8078316610925307, 'CategoryHitRate@K': 1.0, 'Evaluated Users': 7176}\n"
     ]
    }
   ],
   "execution_count": 6
  },
  {
   "metadata": {
    "ExecuteTime": {
     "end_time": "2025-05-13T01:26:09.874408Z",
     "start_time": "2025-05-13T01:26:09.626552Z"
    }
   },
   "cell_type": "code",
   "source": [
    "# Plot comparison of results\n",
    "models = ['Content-Based', 'ALS', 'Combined']\n",
    "precision_values = [content_based_results['Precision@K'], als_results['Precision@K'], combined_results['Precision@K']]\n",
    "category_precision_values = [content_based_results['CategoryPrecision@K'], als_results['CategoryPrecision@K'],\n",
    "    combined_results['CategoryPrecision@K']]\n",
    "hit_rate_values = [content_based_results['HitRate@K'], als_results['HitRate@K'], combined_results['HitRate@K']]\n",
    "category_hit_rate_values = [content_based_results['CategoryHitRate@K'], als_results['CategoryHitRate@K'], combined_results['CategoryHitRate@K']]\n",
    "\n",
    "x = np.arange(len(models))\n",
    "width = 0.2\n",
    "\n",
    "fig1, ax1 = plt.subplots()\n",
    "rects1 = ax1.bar(x - width, precision_values, width, label='Precision@K')\n",
    "rects2 = ax1.bar(x + width, precision_values, width, label='CategoryPrecision@K')\n",
    "\n",
    "ax1.set_xlabel('Models')\n",
    "ax1.set_ylabel('Scores')\n",
    "ax1.set_title('Comparison of Recommendation Models')\n",
    "ax1.set_xticks(x)\n",
    "ax1.set_xticklabels(models)\n",
    "ax1.legend()\n",
    "\n",
    "fig1.tight_layout()\n",
    "plt.show()\n",
    "\n",
    "fig2, ax2 = plt.subplots()\n",
    "rects3 = ax2.bar(x, hit_rate_values, width, label='HitRate@K')\n",
    "rects4 = ax2.bar(x + width, category_hit_rate_values, width, label='CategoryHitRate@K')\n",
    "\n",
    "ax2.set_xlabel('Models')\n",
    "ax2.set_ylabel('Score')\n",
    "ax2.set_title('Comparison of Recommendation Models on Hit Rate')\n",
    "ax2.set_xticks(x)\n",
    "ax2.set_xticklabels(models)\n",
    "ax2.legend()\n",
    "\n",
    "fig2.tight_layout()\n",
    "plt.show()\n"
   ],
   "id": "daddf88766d76eb0",
   "outputs": [
    {
     "ename": "KeyError",
     "evalue": "'CategoryPrecision@K'",
     "output_type": "error",
     "traceback": [
      "\u001B[0;31m---------------------------------------------------------------------------\u001B[0m",
      "\u001B[0;31mKeyError\u001B[0m                                  Traceback (most recent call last)",
      "Cell \u001B[0;32mIn[7], line 4\u001B[0m\n\u001B[1;32m      2\u001B[0m models \u001B[38;5;241m=\u001B[39m [\u001B[38;5;124m'\u001B[39m\u001B[38;5;124mContent-Based\u001B[39m\u001B[38;5;124m'\u001B[39m, \u001B[38;5;124m'\u001B[39m\u001B[38;5;124mALS\u001B[39m\u001B[38;5;124m'\u001B[39m, \u001B[38;5;124m'\u001B[39m\u001B[38;5;124mCombined\u001B[39m\u001B[38;5;124m'\u001B[39m]\n\u001B[1;32m      3\u001B[0m precision_values \u001B[38;5;241m=\u001B[39m [content_based_results[\u001B[38;5;124m'\u001B[39m\u001B[38;5;124mPrecision@K\u001B[39m\u001B[38;5;124m'\u001B[39m], als_results[\u001B[38;5;124m'\u001B[39m\u001B[38;5;124mPrecision@K\u001B[39m\u001B[38;5;124m'\u001B[39m], combined_results[\u001B[38;5;124m'\u001B[39m\u001B[38;5;124mPrecision@K\u001B[39m\u001B[38;5;124m'\u001B[39m]]\n\u001B[0;32m----> 4\u001B[0m category_precision_values \u001B[38;5;241m=\u001B[39m [\u001B[43mcontent_based_results\u001B[49m\u001B[43m[\u001B[49m\u001B[38;5;124;43m'\u001B[39;49m\u001B[38;5;124;43mCategoryPrecision@K\u001B[39;49m\u001B[38;5;124;43m'\u001B[39;49m\u001B[43m]\u001B[49m, als_results[\u001B[38;5;124m'\u001B[39m\u001B[38;5;124mCategoryPrecision@K\u001B[39m\u001B[38;5;124m'\u001B[39m],\n\u001B[1;32m      5\u001B[0m     combined_results[\u001B[38;5;124m'\u001B[39m\u001B[38;5;124mCategoryPrecision@K\u001B[39m\u001B[38;5;124m'\u001B[39m]]\n\u001B[1;32m      6\u001B[0m hit_rate_values \u001B[38;5;241m=\u001B[39m [content_based_results[\u001B[38;5;124m'\u001B[39m\u001B[38;5;124mHitRate@K\u001B[39m\u001B[38;5;124m'\u001B[39m], als_results[\u001B[38;5;124m'\u001B[39m\u001B[38;5;124mHitRate@K\u001B[39m\u001B[38;5;124m'\u001B[39m], combined_results[\u001B[38;5;124m'\u001B[39m\u001B[38;5;124mHitRate@K\u001B[39m\u001B[38;5;124m'\u001B[39m]]\n\u001B[1;32m      7\u001B[0m category_hit_rate_values \u001B[38;5;241m=\u001B[39m [content_based_results[\u001B[38;5;124m'\u001B[39m\u001B[38;5;124mCategoryHitRate@K\u001B[39m\u001B[38;5;124m'\u001B[39m], als_results[\u001B[38;5;124m'\u001B[39m\u001B[38;5;124mCategoryHitRate@K\u001B[39m\u001B[38;5;124m'\u001B[39m], combined_results[\u001B[38;5;124m'\u001B[39m\u001B[38;5;124mCategoryHitRate@K\u001B[39m\u001B[38;5;124m'\u001B[39m]]\n",
      "\u001B[0;31mKeyError\u001B[0m: 'CategoryPrecision@K'"
     ]
    }
   ],
   "execution_count": 7
  }
 ],
 "metadata": {
  "kernelspec": {
   "name": "python3",
   "language": "python",
   "display_name": "Python 3 (ipykernel)"
  }
 },
 "nbformat": 5,
 "nbformat_minor": 9
}
