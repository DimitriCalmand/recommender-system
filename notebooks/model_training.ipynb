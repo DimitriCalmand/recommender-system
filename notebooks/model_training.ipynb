{
 "cells": [
  {
   "metadata": {
    "ExecuteTime": {
     "end_time": "2025-05-02T12:10:14.717401Z",
     "start_time": "2025-05-02T12:10:13.363930Z"
    }
   },
   "cell_type": "code",
   "source": [
    "import os\n",
    "import pandas as pd\n",
    "import numpy as np\n",
    "from sklearn.model_selection import train_test_split\n",
    "from sklearn.feature_extraction.text import TfidfVectorizer\n",
    "from sklearn.metrics.pairwise import cosine_similarity\n",
    "from sklearn.decomposition import PCA\n",
    "from scipy.sparse.linalg import svds\n",
    "from scipy.sparse import csr_matrix\n",
    "import pickle"
   ],
   "id": "84f9864a448d66f7",
   "outputs": [],
   "execution_count": 1
  },
  {
   "metadata": {},
   "cell_type": "markdown",
   "source": "### Load the Data",
   "id": "944e699d960a55c4"
  },
  {
   "metadata": {
    "ExecuteTime": {
     "end_time": "2025-05-02T12:10:33.985453Z",
     "start_time": "2025-05-02T12:10:14.721333Z"
    }
   },
   "cell_type": "code",
   "source": [
    "\n",
    "# Define the path to the processed data\n",
    "processed_path = \"../data/processed/\"\n",
    "\n",
    "# Load the processed datasets\n",
    "interactions_train = pd.read_csv(os.path.join(processed_path, \"interactions_train.csv\"))\n",
    "interactions_test = pd.read_csv(os.path.join(processed_path, \"interactions_test.csv\"))\n",
    "user_features = pd.read_csv(os.path.join(processed_path, \"user_features_engineered.csv\"))\n",
    "video_metadata = pd.read_csv(os.path.join(processed_path, \"video_metadata.csv\"))\n"
   ],
   "id": "2529aea6e041815b",
   "outputs": [],
   "execution_count": 2
  },
  {
   "metadata": {},
   "cell_type": "markdown",
   "source": "### Collaborative Filtering using Matrix Factorization",
   "id": "5c5d1f984a9a5ae8"
  },
  {
   "metadata": {
    "ExecuteTime": {
     "end_time": "2025-05-02T12:10:55.215482Z",
     "start_time": "2025-05-02T12:10:34.173849Z"
    }
   },
   "cell_type": "code",
   "source": [
    "# Create a user-item interaction matrix\n",
    "user_item_matrix = interactions_train.pivot(index='user_id', columns='video_id', values='user_video_avg_watch_ratio').fillna(0)\n",
    "\n",
    "# Convert the matrix to a numpy array\n",
    "R = user_item_matrix.values\n",
    "\n",
    "# Normalize by subtracting mean\n",
    "user_ratings_mean = np.mean(R, axis=1)\n",
    "R_demeaned = R - user_ratings_mean.reshape(-1, 1)\n",
    "\n",
    "# Perform SVD\n",
    "U, sigma, Vt = svds(R_demeaned, k=50)\n",
    "\n",
    "# Convert sigma to a diagonal matrix\n",
    "sigma = np.diag(sigma)\n",
    "\n",
    "# Predict ratings\n",
    "all_user_predicted_ratings = np.dot(np.dot(U, sigma), Vt) + user_ratings_mean.reshape(-1, 1)\n",
    "\n",
    "# Convert to DataFrame\n",
    "predicted_ratings_df = pd.DataFrame(all_user_predicted_ratings, columns=user_item_matrix.columns)\n"
   ],
   "id": "ac742f7063cbedfe",
   "outputs": [],
   "execution_count": 3
  },
  {
   "metadata": {},
   "cell_type": "markdown",
   "source": "### Content-Based Filtering using TF-IDF and Cosine Similarity",
   "id": "737fceb315c2606b"
  },
  {
   "metadata": {
    "ExecuteTime": {
     "start_time": "2025-05-02T12:10:55.266675Z"
    }
   },
   "cell_type": "code",
   "source": [
    "# Create a TF-IDF vectorizer\n",
    "tfidf = TfidfVectorizer(stop_words='english')\n",
    "\n",
    "# Assume 'feat' column contains the video tags/categories as text\n",
    "video_metadata['feat'] = video_metadata['feat'].fillna('')\n",
    "print(\"Creating TF-IDF matrix...\")\n",
    "tfidf_matrix = tfidf.fit_transform(video_metadata['feat'])\n",
    "\n",
    "# Ensure the matrix is sparsex\n",
    "tfidf_matrix = csr_matrix(tfidf_matrix)\n",
    "print(\"TF-IDF matrix shape:\", tfidf_matrix.shape)\n",
    "# Apply PCA for dimensionality reduction\n",
    "n_components = 10  # Number of principal components to keep\n",
    "pca = PCA(n_components=n_components)\n",
    "tfidf_matrix = pca.fit_transform(tfidf_matrix.toarray())\n",
    "print(\"TF-IDF matrix shape:\", tfidf_matrix.shape)\n",
    "# Compute the cosine similarity matrix\n",
    "print(\"Computing cosine similarity...\")\n",
    "cosine_sim = cosine_similarity(tfidf_matrix, tfidf_matrix)\n"
   ],
   "id": "cac6eaf9a927c822",
   "outputs": [
    {
     "name": "stdout",
     "output_type": "stream",
     "text": [
      "Creating TF-IDF matrix...\n",
      "TF-IDF matrix shape: (343341, 21)\n",
      "TF-IDF matrix shape: (343341, 10)\n",
      "Computing cosine similarity...\n"
     ]
    }
   ],
   "execution_count": null
  },
  {
   "metadata": {},
   "cell_type": "markdown",
   "source": "### Save the Models",
   "id": "a8231b6dfe04ede"
  },
  {
   "metadata": {},
   "cell_type": "code",
   "outputs": [],
   "execution_count": null,
   "source": [
    "# Save the collaborative filtering model\n",
    "collab_model_path = os.path.join(processed_path, \"collab_filtering_model.pkl\")\n",
    "with open(collab_model_path, 'wb') as f:\n",
    "    pickle.dump({'U': U, 'sigma': sigma, 'Vt': Vt, 'predicted_ratings_df': predicted_ratings_df}, f)\n",
    "\n",
    "# Save the content-based filtering model\n",
    "content_model_path = os.path.join(processed_path, \"content_filtering_model.pkl\")\n",
    "with open(content_model_path, 'wb') as f:\n",
    "    pickle.dump({'tfidf': tfidf, 'cosine_sim': cosine_sim}, f)\n",
    "\n",
    "print(\"Models trained and saved successfully!\")\n"
   ],
   "id": "b1934ae23078e135"
  }
 ],
 "metadata": {
  "kernelspec": {
   "name": "python3",
   "language": "python",
   "display_name": "Python 3 (ipykernel)"
  }
 },
 "nbformat": 5,
 "nbformat_minor": 9
}
